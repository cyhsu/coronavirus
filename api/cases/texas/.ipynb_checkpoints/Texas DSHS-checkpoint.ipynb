{
 "cells": [
  {
   "cell_type": "code",
   "execution_count": 19,
   "metadata": {},
   "outputs": [],
   "source": [
    "import numpy as np\n",
    "import requests as r\n",
    "from urllib.request import urlopen\n",
    "from bs4 import BeautifulSoup"
   ]
  },
  {
   "cell_type": "markdown",
   "metadata": {},
   "source": [
    "### 怎麼抓 ArcGIS Map Data  \n",
    "要知道的是 ArcGIS 其實提供REST API 來幫助我們來抓資料。  \n",
    "那要怎麼找到其 API 的 Ｑuery 功能呢？  \n",
    "首先 我們要知道 我們的網站 包含了什麼內容  \n",
    "\n",
    "> https://txdshs.maps.arcgis.com/apps/opsdashboard/index.html#/ed483ecd702b4298ab01e8b9cafc8b83  \n",
    "\n",
    "你看到了喔！ 其實，我們可以看到我們如果要在ArcGIS 上發表 GIS Map，其實都需要提供一個 ArcGIS server APP ID. 從上述的網址，我們可以看到唯一有可能的APP ID，就是最後面那一串 ed483ecd702b4298ab01e8b9cafc8b83。所以，我們可以把ArcGIS REST的網址加上去，最後再加上一個 \"/data\"。因此，我們可以得到  \n",
    "\n",
    ">  https://www.arcgis.com/sharing/rest/content/items/f8fd6fb4cfdd4daaae24cbc2b2360fa5/data  \n",
    "\n",
    "如果我們點進去面那個網址，我們可以看到...  \n",
    "網址顯示 “operationalLayers\" 然後 id, layerType, 還有url。  \n",
    "理論上，這個URL 應該就是我們想要得到的ArcGIS REST url。  \n",
    ">  https://services5.arcgis.com/ACaLB9ifngzawspq/arcgis/rest/services/COVID19County_ViewLayer/FeatureServer/0\n",
    "\n",
    "點進最下面，我們就會出現 query 這個字眼。點擊 \"query\"，就會連到新的網址，這個就是我們最後的目的地。"
   ]
  },
  {
   "cell_type": "markdown",
   "metadata": {},
   "source": [
    "### 怎麼使用query  \n"
   ]
  },
  {
   "cell_type": "markdown",
   "metadata": {},
   "source": [
    "\n",
    "\"id\":  \n",
    "a4d3aa1f-2299-4a20-a89b-bcf5bba4de59   ! Don't think this one is the one i am looking    \n",
    "f6623ad0-d45a-474e-8313-0d0c6cb57f15   ! Don't think this one is the one i am looking  \n",
    "4fb2b8f9-0e3a-4392-8d7e-366851993444   ! serviceDataset\n",
    "4fb2b8f9-0e3a-4392-8d7e-366851993444#COVID19County_ViewLayer_414\n",
    "\n",
    "df4910f0-06d8-4d9f-aff7-25ff1d07cff9   ! Cases Reported  \n",
    "69846f80-7b25-4da4-a84a-dd32412984ab   ! Counties Reporting Cases  \n",
    "a5d281d4-0d36-4f4e-8de2-9be05b72015c\n",
    "7a7b9dc4-6b0a-4cc1-a964-7a0a4f339a96\n",
    "8bb96480-29b1-4db4-83c0-1ad89829ca68   ! Public Lab. \n",
    "68870376-22ea-4575-b442-f4310e2abbca   ! Private Labs\n",
    "6b80815b-05f9-4d5d-96b8-26e98d39cd43\n",
    "352fa542-6fa0-4aee-912a-1f2b98573ec9\n",
    "\n",
    "\"id\":\"4fb2b8f9-0e3a-4392-8d7e-366851993444\",\"width\":1,\"height\":1,\"tabName\":\"Case Numbers By County\"\n",
    "\"id\":\"4c8fdae0-b3ac-4cdc-9135-af0355d66441\",\"width\":1,\"height\":1,\"tabName\":\"Deaths By County\""
   ]
  },
  {
   "cell_type": "code",
   "execution_count": 20,
   "metadata": {},
   "outputs": [],
   "source": [
    "url = 'https://txdshs.maps.arcgis.com/apps/opsdashboard/index.html#/ed483ecd702b4298ab01e8b9cafc8b83'\n",
    "req = r.get(url)"
   ]
  },
  {
   "cell_type": "code",
   "execution_count": 18,
   "metadata": {},
   "outputs": [],
   "source": [
    "with open('abc.txt','w') as f:\n",
    "    f.write(req.text)"
   ]
  },
  {
   "cell_type": "code",
   "execution_count": 24,
   "metadata": {},
   "outputs": [
    {
     "data": {
      "text/plain": [
       "'<!DOCTYPE html>\\n<html>\\n\\n<head>\\n  <meta charset=\"utf-8\">\\n  <meta http-equiv=\"X-UA-Compatible\" content=\"IE=edge\">\\n  <title>Operations Dashboard for ArcGIS</title>\\n  <meta name=\"description\" content=\"\">\\n  <meta name=\"viewport\" content=\"width=device-width, initial-scale=1\">\\n  <meta name=\"apple-mobile-web-app-capable\" content=\"yes\">\\n  <link rel=\"icon\" href=\"assets/images/favicon.ico?\" type=\"image/x-icon\">\\n\\n\\n  <link href=\"https://js.arcgis.com/3.31/dijit/themes/claro/claro.css\" rel=\"stylesheet\" type=\"text/css\">\\n  <link href=\"https://js.arcgis.com/3.31/esri/css/esri.css\" rel=\"stylesheet\" type=\"text/css\">\\n\\n  <link rel=\"stylesheet\" href=\"assets/vendor-36211ead39d5c1e27a4b693f05e3f1af.css\">\\n  <link rel=\"stylesheet\" href=\"assets/app-light-a4ce40813167ba31a775b2184a79f86e.css\">\\n\\n\\n</head>\\n\\n<body class=\"claro\">\\n  <script>\\n    window.dojoConfig = {\\n      async: true\\n    };\\n\\n    var cookieName = \\'esri_auth\\';\\n\\n    var browserCulture = navigator.languages ? navigator.languages[0] : navigator.language || navigator.userLanguage;\\n    var culture = browserCulture && browserCulture.toLowerCase() || \\'en\\';\\n    var _rtl = false;\\n\\n    var cookie = JSON.parse(decodeURIComponent(document.cookie.replace(new RegExp(\\'(?:(?:^|.*;\\\\\\\\s*)\\' + cookieName + \\'\\\\\\\\s*\\\\\\\\=\\\\\\\\s*([^;]*).*$)|^.*$\\'), \\'$1\\')) || null);\\n    if (cookie && cookie.culture) {\\n      culture = cookie.culture.toLowerCase();\\n    }\\n\\n    var queryParams = window.location.href.slice(window.location.href.indexOf(\\'?\\') + 1).split(\\'&\\');\\n    for (var i = 0; i < queryParams.length; i++) {\\n      var queryParam = queryParams[i].split(\\'=\\');\\n      if (queryParam[0] === \\'locale\\' && queryParam[1]) {\\n        culture = queryParam[1].toLowerCase();\\n      }\\n      if (queryParam[0] === \\'_rtl\\' && queryParam[1] === \\'true\\') {\\n        _rtl = true;\\n      }\\n    }\\n\\n    var isRTL = culture.toLowerCase() === \\'ar\\' || culture.toLowerCase() === \\'he\\' || _rtl;\\n\\n    window.dojoConfig.locale = culture;\\n    window.dojoConfig.isRTL = isRTL;\\n\\n    var dirNode = document.querySelector(\\'html\\');\\n    dirNode.setAttribute(\\'dir\\', isRTL ? \\'rtl\\' : \\'ltr\\');\\n    dirNode.className += \\' \\' + culture;\\n    dirNode.className += culture.indexOf(\\'-\\') !== -1 ? \\' \\' + culture.split(\\'-\\')[0] : \\'\\';\\n\\n    window.CKEDITOR_BASEPATH = window.location.pathname.replace(\\'index.html\\', \\'\\') + \\'assets/ckeditor/\\';\\n  </script>\\n  <script src=\"https://js.arcgis.com/3.31/init.js\" data-amd=\"true\"></script>\\n  <script>\\n    require([\\n      \\'esri/request\\', \\'esri/moment\\', \\'dojo/_base/config\\', \\'dojo/Deferred\\', \\'esri/dijit/ColorPicker\\', \\'dojo/promise/all\\', \\'esri/tasks/query\\', \\'dojo/_base/Color\\', \\'dojo/io-query\\', \\'esri/IdentityManager\\', \\'dojo/i18n!dojo/cldr/nls/gregorian\\', \\'esri/dijit/ColorPicker/HexPalette\\', \\'dijit/form/DateTextBox\\', \\'dijit/form/TimeTextBox\\', \\'dojo/number\\', \\'dojox/color\\', \\'esri/dijit/Legend\\', \\'dojo/dom-geometry\\', \\'dojox/gfx\\', \\'esri/symbols/jsonUtils\\', \\'esri/dijit/Scalebar\\', \\'dojo/on\\', \\'esri/dijit/BasemapGallery\\', \\'esri/geometry/Extent\\', \\'esri/arcgis/utils\\', \\'esri/dijit/LayerList\\', \\'esri/dijit/Search\\', \\'esri/tasks/locator\\', \\'esri/symbols/SimpleMarkerSymbol\\', \\'esri/Color\\', \\'esri/toolbars/draw\\', \\'esri/graphic\\', \\'esri/symbols/PictureMarkerSymbol\\', \\'esri/symbols/SimpleLineSymbol\\', \\'esri/symbols/SimpleFillSymbol\\', \\'esri/geometry/ScreenPoint\\', \\'dojo/date/locale\\', \\'esri/geometry/Point\\', \\'esri/SpatialReference\\', \\'esri/dijit/PopupTemplate\\', \\'esri/plugins/FeatureLayerStatistics\\', \\'esri/tasks/QueryTask\\', \\'esri/geometry/geometryEngineAsync\\', \\'esri/geometry/jsonUtils\\', \\'esri/layers/FeatureLayer\\', \\'dojo/_base/lang\\', \\'esri/geometry/geometryEngine\\', \\'esri/layers/GridLayout\\', \\'esri/renderers/jsonUtils\\', \\'dojo/_base/fx\\', \\'dojo/fx/easing\\', \\'esri/renderers/UniqueValueRenderer\\', \\'esri/renderers/SimpleRenderer\\', \\'esri/layers/GraphicsLayer\\', \\'esri/config\\', \\'esri/geometry/scaleUtils\\', \\'esri/tasks/StatisticDefinition\\', \\'esri/arcgis/OAuthInfo\\', \\'esri/arcgis/Portal\\', \\'esri/tasks/GeometryService\\', \\'dojo/_base/Deferred\\', \\'dojo/json\\', \\'dojo/cookie\\', \\'esri/styles/colors\\', \\'esri/lang\\', \\'esri/geometry/webMercatorUtils\\'\\n    ], function(mod0, mod1, mod2, mod3, mod4, mod5, mod6, mod7, mod8, mod9, mod10, mod11, mod12, mod13, mod14, mod15, mod16, mod17, mod18, mod19, mod20, mod21, mod22, mod23, mod24, mod25, mod26, mod27, mod28, mod29, mod30, mod31, mod32, mod33, mod34, mod35, mod36, mod37, mod38, mod39, mod40, mod41, mod42, mod43, mod44, mod45, mod46, mod47, mod48, mod49, mod50, mod51, mod52, mod53, mod54, mod55, mod56, mod57, mod58, mod59, mod60, mod61, mod62, mod63, mod64, mod65) {\\n      var adoptables = [{\\n        name: \\'esri/request\\',\\n        obj: mod0\\n      }, {\\n        name: \\'esri/moment\\',\\n        obj: mod1\\n      }, {\\n        name: \\'dojo/_base/config\\',\\n        obj: mod2\\n      }, {\\n        name: \\'dojo/Deferred\\',\\n        obj: mod3\\n      }, {\\n        name: \\'esri/dijit/ColorPicker\\',\\n        obj: mod4\\n      }, {\\n        name: \\'dojo/promise/all\\',\\n        obj: mod5\\n      }, {\\n        name: \\'esri/tasks/query\\',\\n        obj: mod6\\n      }, {\\n        name: \\'dojo/_base/Color\\',\\n        obj: mod7\\n      }, {\\n        name: \\'dojo/io-query\\',\\n        obj: mod8\\n      }, {\\n        name: \\'esri/IdentityManager\\',\\n        obj: mod9\\n      }, {\\n        name: \\'dojo/i18n!dojo/cldr/nls/gregorian\\',\\n        obj: mod10\\n      }, {\\n        name: \\'esri/dijit/ColorPicker/HexPalette\\',\\n        obj: mod11\\n      }, {\\n        name: \\'dijit/form/DateTextBox\\',\\n        obj: mod12\\n      }, {\\n        name: \\'dijit/form/TimeTextBox\\',\\n        obj: mod13\\n      }, {\\n        name: \\'dojo/number\\',\\n        obj: mod14\\n      }, {\\n        name: \\'dojox/color\\',\\n        obj: mod15\\n      }, {\\n        name: \\'esri/dijit/Legend\\',\\n        obj: mod16\\n      }, {\\n        name: \\'dojo/dom-geometry\\',\\n        obj: mod17\\n      }, {\\n        name: \\'dojox/gfx\\',\\n        obj: mod18\\n      }, {\\n        name: \\'esri/symbols/jsonUtils\\',\\n        obj: mod19\\n      }, {\\n        name: \\'esri/dijit/Scalebar\\',\\n        obj: mod20\\n      }, {\\n        name: \\'dojo/on\\',\\n        obj: mod21\\n      }, {\\n        name: \\'esri/dijit/BasemapGallery\\',\\n        obj: mod22\\n      }, {\\n        name: \\'esri/geometry/Extent\\',\\n        obj: mod23\\n      }, {\\n        name: \\'esri/arcgis/utils\\',\\n        obj: mod24\\n      }, {\\n        name: \\'esri/dijit/LayerList\\',\\n        obj: mod25\\n      }, {\\n        name: \\'esri/dijit/Search\\',\\n        obj: mod26\\n      }, {\\n        name: \\'esri/tasks/locator\\',\\n        obj: mod27\\n      }, {\\n        name: \\'esri/symbols/SimpleMarkerSymbol\\',\\n        obj: mod28\\n      }, {\\n        name: \\'esri/Color\\',\\n        obj: mod29\\n      }, {\\n        name: \\'esri/toolbars/draw\\',\\n        obj: mod30\\n      }, {\\n        name: \\'esri/graphic\\',\\n        obj: mod31\\n      }, {\\n        name: \\'esri/symbols/PictureMarkerSymbol\\',\\n        obj: mod32\\n      }, {\\n        name: \\'esri/symbols/SimpleLineSymbol\\',\\n        obj: mod33\\n      }, {\\n        name: \\'esri/symbols/SimpleFillSymbol\\',\\n        obj: mod34\\n      }, {\\n        name: \\'esri/geometry/ScreenPoint\\',\\n        obj: mod35\\n      }, {\\n        name: \\'dojo/date/locale\\',\\n        obj: mod36\\n      }, {\\n        name: \\'esri/geometry/Point\\',\\n        obj: mod37\\n      }, {\\n        name: \\'esri/SpatialReference\\',\\n        obj: mod38\\n      }, {\\n        name: \\'esri/dijit/PopupTemplate\\',\\n        obj: mod39\\n      }, {\\n        name: \\'esri/plugins/FeatureLayerStatistics\\',\\n        obj: mod40\\n      }, {\\n        name: \\'esri/tasks/QueryTask\\',\\n        obj: mod41\\n      }, {\\n        name: \\'esri/geometry/geometryEngineAsync\\',\\n        obj: mod42\\n      }, {\\n        name: \\'esri/geometry/jsonUtils\\',\\n        obj: mod43\\n      }, {\\n        name: \\'esri/layers/FeatureLayer\\',\\n        obj: mod44\\n      }, {\\n        name: \\'dojo/_base/lang\\',\\n        obj: mod45\\n      }, {\\n        name: \\'esri/geometry/geometryEngine\\',\\n        obj: mod46\\n      }, {\\n        name: \\'esri/layers/GridLayout\\',\\n        obj: mod47\\n      }, {\\n        name: \\'esri/renderers/jsonUtils\\',\\n        obj: mod48\\n      }, {\\n        name: \\'dojo/_base/fx\\',\\n        obj: mod49\\n      }, {\\n        name: \\'dojo/fx/easing\\',\\n        obj: mod50\\n      }, {\\n        name: \\'esri/renderers/UniqueValueRenderer\\',\\n        obj: mod51\\n      }, {\\n        name: \\'esri/renderers/SimpleRenderer\\',\\n        obj: mod52\\n      }, {\\n        name: \\'esri/layers/GraphicsLayer\\',\\n        obj: mod53\\n      }, {\\n        name: \\'esri/config\\',\\n        obj: mod54\\n      }, {\\n        name: \\'esri/geometry/scaleUtils\\',\\n        obj: mod55\\n      }, {\\n        name: \\'esri/tasks/StatisticDefinition\\',\\n        obj: mod56\\n      }, {\\n        name: \\'esri/arcgis/OAuthInfo\\',\\n        obj: mod57\\n      }, {\\n        name: \\'esri/arcgis/Portal\\',\\n        obj: mod58\\n      }, {\\n        name: \\'esri/tasks/GeometryService\\',\\n        obj: mod59\\n      }, {\\n        name: \\'dojo/_base/Deferred\\',\\n        obj: mod60\\n      }, {\\n        name: \\'dojo/json\\',\\n        obj: mod61\\n      }, {\\n        name: \\'dojo/cookie\\',\\n        obj: mod62\\n      }, {\\n        name: \\'esri/styles/colors\\',\\n        obj: mod63\\n      }, {\\n        name: \\'esri/lang\\',\\n        obj: mod64\\n      }, {\\n        name: \\'esri/geometry/webMercatorUtils\\',\\n        obj: mod65\\n      }];\\n      var isVendor = new RegExp(\\'vendor(.*js)\\');\\n\\n      function recursiveRequire(i, scripts) {\\n        if (i >= scripts.length) {\\n          return;\\n        }\\n        require([scripts[i]], function() {\\n          if (isVendor.test(scripts[i])) {\\n            adoptables.forEach(function(adoptable) {\\n              enifed(adoptable.name, [], function() {\\n                return adoptable.obj;\\n              });\\n            });\\n          }\\n          recursiveRequire(++i, scripts);\\n        });\\n      }\\n      recursiveRequire(0, [\"assets/vendor-b294ef434e8ecd8fc0671169898118d0.js\", \"assets/nickel-3a9fdff2fead41c28df9eeaf949f145b.js\", \"assets/moment-timezone-with-data.min-f71eb5eba513b3ab182b567941a82ef5.js\"]);\\n    });\\n  </script>\\n\\n  <div id=\"initialLoadingContainer\" class=\"full-height flex-vertical flex-justify-center flex-align-items-center\">\\n    <div class=\"loader is-active\">\\n      <div class=\"loader-bars\"></div>\\n    </div>\\n  </div>\\n\\n\\n\\n\\n\\n\\n\\n\\n\\n</body>\\n\\n</html>'"
      ]
     },
     "execution_count": 24,
     "metadata": {},
     "output_type": "execute_result"
    }
   ],
   "source": [
    "req.text"
   ]
  },
  {
   "cell_type": "code",
   "execution_count": 10,
   "metadata": {},
   "outputs": [
    {
     "data": {
      "text/plain": [
       "[]"
      ]
     },
     "execution_count": 10,
     "metadata": {},
     "output_type": "execute_result"
    }
   ],
   "source": [
    "info.find_all('nav', {'class':'feature-list'})"
   ]
  },
  {
   "cell_type": "code",
   "execution_count": null,
   "metadata": {},
   "outputs": [],
   "source": []
  }
 ],
 "metadata": {
  "kernelspec": {
   "display_name": "Python 3",
   "language": "python",
   "name": "python3"
  },
  "language_info": {
   "codemirror_mode": {
    "name": "ipython",
    "version": 3
   },
   "file_extension": ".py",
   "mimetype": "text/x-python",
   "name": "python",
   "nbconvert_exporter": "python",
   "pygments_lexer": "ipython3",
   "version": "3.6.7"
  }
 },
 "nbformat": 4,
 "nbformat_minor": 4
}
