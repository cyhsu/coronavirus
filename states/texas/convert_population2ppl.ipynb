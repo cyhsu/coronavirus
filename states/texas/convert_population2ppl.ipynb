{
 "cells": [
  {
   "cell_type": "code",
   "execution_count": 1,
   "metadata": {},
   "outputs": [],
   "source": [
    "import numpy as np"
   ]
  },
  {
   "cell_type": "code",
   "execution_count": 2,
   "metadata": {},
   "outputs": [],
   "source": [
    "fid = './county_list_population'"
   ]
  },
  {
   "cell_type": "code",
   "execution_count": 53,
   "metadata": {},
   "outputs": [],
   "source": [
    "with open(fid) as f:\n",
    "    lines = f.readlines()\n",
    "    lines = [l.rstrip().replace(',','') for l in lines]\n",
    "    texas_county_list_population = np.reshape(lines,(-1,3))\n",
    "    \n",
    "with open('./county_list_ppl','w') as f:\n",
    "    f.write('County Name, County Code, Population\\n')\n",
    "    for lin in texas_county_list_population:\n",
    "        lin = ',  '.join(lin)\n",
    "        f.write(lin+'\\n')"
   ]
  },
  {
   "cell_type": "code",
   "execution_count": null,
   "metadata": {},
   "outputs": [],
   "source": []
  }
 ],
 "metadata": {
  "kernelspec": {
   "display_name": "Python 3",
   "language": "python",
   "name": "python3"
  },
  "language_info": {
   "codemirror_mode": {
    "name": "ipython",
    "version": 3
   },
   "file_extension": ".py",
   "mimetype": "text/x-python",
   "name": "python",
   "nbconvert_exporter": "python",
   "pygments_lexer": "ipython3",
   "version": "3.6.7"
  }
 },
 "nbformat": 4,
 "nbformat_minor": 4
}
